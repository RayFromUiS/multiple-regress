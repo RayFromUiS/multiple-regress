{
 "cells": [
  {
   "cell_type": "code",
   "execution_count": 1,
   "metadata": {},
   "outputs": [],
   "source": [
    "## we are trying to predict the house price, with such features, it is going to be a process mostly include EDA(visulizaiont) \n",
    "##and feature enginning and model selection"
   ]
  },
  {
   "cell_type": "markdown",
   "metadata": {},
   "source": [
    "### -dataset ,train,test for training and validate the model\n",
    "### - target to predicting,SalePrice\n",
    "\n",
    "## base assumptions,\n",
    "1 all the money terms are converted as the same time\n",
    "\n",
    "## \n",
    "\n"
   ]
  },
  {
   "cell_type": "markdown",
   "metadata": {},
   "source": [
    "Data fields\n",
    "Here's a brief version of what you'll find in the data description file.\n",
    "\n",
    "- SalePrice - the property's sale price in dollars. This is the target variable that you're trying to predict.\n",
    "- MSSubClass: The building class\n",
    "- MSZoning: The general zoning classification\n",
    "- LotFrontage: Linear feet of street connected to property\n",
    "- LotArea: Lot size in square feet\n",
    "- Street: Type of road access\n",
    "- Alley: Type of alley access\n",
    "- LotShape: General shape of property\n",
    "- LandContour: Flatness of the property\n",
    "- Utilities: Type of utilities available\n",
    "- LotConfig: Lot configuration\n",
    "- LandSlope: Slope of property\n",
    "- Neighborhood: Physical locations within Ames city limits\n",
    "- Condition1: Proximity to main road or railroad\n",
    "- Condition2: Proximity to main road or railroad (if a second is present)\n",
    "- BldgType: Type of dwelling\n",
    "- HouseStyle: Style of dwelling\n",
    "- OverallQual: Overall material and finish quality\n",
    "- OverallCond: Overall condition rating\n",
    "- YearBuilt: Original construction date\n",
    "- YearRemodAdd: Remodel date\n",
    "- RoofStyle: Type of roof\n",
    "- RoofMatl: Roof material\n",
    "- Exterior1st: Exterior covering on house\n",
    "- Exterior2nd: Exterior covering on house (if more than one material)\n",
    "- MasVnrType: Masonry veneer type\n",
    "- MasVnrArea: Masonry veneer area in square feet\n",
    "- ExterQual: Exterior material quality\n",
    "- ExterCond: Present condition of the material on the exterior\n",
    "- Foundation: Type of foundation\n",
    "- BsmtQual: Height of the basement\n",
    "- BsmtCond: General condition of the basement\n",
    "- BsmtExposure: Walkout or garden level basement walls\n",
    "- BsmtFinType1: Quality of basement finished area\n",
    "- BsmtFinSF1: Type 1 finished square feet\n",
    "- BsmtFinType2: Quality of second finished area (if present)\n",
    "- BsmtFinSF2: Type 2 finished square feet\n",
    "- BsmtUnfSF: Unfinished square feet of basement area\n",
    "- TotalBsmtSF: Total square feet of basement area\n",
    "- Heating: Type of heating\n",
    "- HeatingQC: Heating quality and condition\n",
    "- CentralAir: Central air conditioning\n",
    "- Electrical: Electrical system\n",
    "- 1stFlrSF: First Floor square feet\n",
    "- 2ndFlrSF: Second floor square feet\n",
    "- LowQualFinSF: Low quality finished square feet (all floors)\n",
    "- GrLivArea: Above grade (ground) living area square feet\n",
    "- BsmtFullBath: Basement full bathrooms\n",
    "- BsmtHalfBath: Basement half bathrooms\n",
    "- FullBath: Full bathrooms above grade\n",
    "- HalfBath: Half baths above grade\n",
    "- Bedroom: Number of bedrooms above basement level\n",
    "- Kitchen: Number of kitchens\n",
    "- KitchenQual: Kitchen quality\n",
    "- TotRmsAbvGrd: Total rooms above grade (does not include bathrooms)\n",
    "- Functional: Home functionality rating\n",
    "- Fireplaces: Number of fireplaces\n",
    "- FireplaceQu: Fireplace quality\n",
    "- GarageType: Garage location\n",
    "- GarageYrBlt: Year garage was built\n",
    "- GarageFinish: Interior finish of the garage\n",
    "- GarageCars: Size of garage in car capacity\n",
    "- GarageArea: Size of garage in square feet\n",
    "- GarageQual: Garage quality\n",
    "- GarageCond: Garage condition\n",
    "- PavedDrive: Paved driveway\n",
    "- WoodDeckSF: Wood deck area in square feet\n",
    "- OpenPorchSF: Open porch area in square feet\n",
    "- EnclosedPorch: Enclosed porch area in square feet\n",
    "- 3SsnPorch: Three season porch area in square feet\n",
    "- ScreenPorch: Screen porch area in square feet\n",
    "- PoolArea: Pool area in square feet\n",
    "- PoolQC: Pool quality\n",
    "- Fence: Fence quality\n",
    "- MiscFeature: Miscellaneous feature not covered in other categories\n",
    "- MiscVal: $Value of miscellaneous feature\n",
    "- MoSold: Month Sold\n",
    "- YrSold: Year Sold\n",
    "- SaleType: Type of sale\n",
    "- SaleCondition: Condition of sale"
   ]
  },
  {
   "cell_type": "markdown",
   "metadata": {},
   "source": [
    "# 1 recruite our team"
   ]
  },
  {
   "cell_type": "code",
   "execution_count": 1652,
   "metadata": {},
   "outputs": [],
   "source": [
    "## general\n",
    "import os\n",
    "import re\n",
    "from copy import deepcopy\n",
    "## data cleaning and manipulation\n",
    "import numpy as np\n",
    "import pandas as pd\n",
    "## visulization\n",
    "import matplotlib.pyplot as plt\n",
    "import seaborn as sns\n",
    "\n",
    "## eda--team member to perform data exploartion analysis\n",
    "from scipy import stats\n",
    "from scipy.stats import norm\n",
    "from scipy.stats import f_oneway\n",
    "from scipy.stats import iqr\n",
    "\n",
    "## data preprocessing-in case of data normalization\n",
    "from sklearn.preprocessing import StandardScaler, OneHotEncoder,MinMaxScaler\n",
    "from sklearn.compose import ColumnTransformer\n",
    "from sklearn.impute import SimpleImputer\n",
    "from sklearn.model_selection import cross_val_score\n",
    "from sklearn.model_selection import train_test_split\n",
    "from sklearn.model_selection import GridSearchCV\n",
    "from sklearn.decomposition import PCA\n",
    "## matrix- evaluation matrix for comparing models\n",
    "from sklearn.metrics import  mean_squared_error\n",
    "\n",
    "## model buliding- package for bulid all kinds of model\n",
    "from sklearn.tree import DecisionTreeClassifier,DecisionTreeRegressor\n",
    "from sklearn.base import BaseEstimator\n",
    "from sklearn.ensemble import GradientBoostingRegressor,AdaBoostRegressor,RandomForestRegressor,RandomForestClassifier\n",
    "from sklearn.linear_model import LinearRegression\n",
    "from xgboost import XGBRegressor\n",
    "from sklearn.linear_model import Ridge\n",
    "from sklearn.linear_model import Lasso\n",
    "from sklearn.feature_selection import SelectFromModel\n",
    "from mlxtend.feature_selection import SequentialFeatureSelector as sfs\n",
    "\n",
    "\n",
    "## pipeline - to integrate the data transformation, feature selection, as well as modeling buliding \n",
    "from sklearn.pipeline import Pipeline\n",
    "\n",
    "## matrix for scoring model\n",
    "from sklearn.metrics import mean_squared_error,r2_score,mean_squared_log_error\n",
    "\n",
    "\n",
    "\n",
    "## settings\n",
    "import warnings\n",
    "warnings.filterwarnings('ignore')\n",
    "%matplotlib inline\n",
    "\n",
    "DATA_DIR='./'"
   ]
  },
  {
   "cell_type": "markdown",
   "metadata": {},
   "source": [
    "## 2 Invite the data"
   ]
  },
  {
   "cell_type": "code",
   "execution_count": 1228,
   "metadata": {},
   "outputs": [],
   "source": [
    "train = pd.read_csv(os.path.join(DATA_DIR,'train.csv'),index_col='Id')\n",
    "test = pd.read_csv(os.path.join(DATA_DIR,'test.csv'),index_col='Id')"
   ]
  },
  {
   "cell_type": "markdown",
   "metadata": {},
   "source": [
    "## 2.1Data description"
   ]
  },
  {
   "cell_type": "code",
   "execution_count": 851,
   "metadata": {},
   "outputs": [
    {
     "data": {
      "text/plain": [
       "(1460, 80)"
      ]
     },
     "execution_count": 851,
     "metadata": {},
     "output_type": "execute_result"
    }
   ],
   "source": [
    "## peak at the data to get  a summary of data,for example. how many columns and rows, missing data,data abnoraml\n",
    "train.shape"
   ]
  },
  {
   "cell_type": "code",
   "execution_count": 852,
   "metadata": {},
   "outputs": [
    {
     "name": "stdout",
     "output_type": "stream",
     "text": [
      "<class 'pandas.core.frame.DataFrame'>\n",
      "Int64Index: 1460 entries, 1 to 1460\n",
      "Data columns (total 80 columns):\n",
      " #   Column         Non-Null Count  Dtype  \n",
      "---  ------         --------------  -----  \n",
      " 0   MSSubClass     1460 non-null   int64  \n",
      " 1   MSZoning       1460 non-null   object \n",
      " 2   LotFrontage    1201 non-null   float64\n",
      " 3   LotArea        1460 non-null   int64  \n",
      " 4   Street         1460 non-null   object \n",
      " 5   Alley          91 non-null     object \n",
      " 6   LotShape       1460 non-null   object \n",
      " 7   LandContour    1460 non-null   object \n",
      " 8   Utilities      1460 non-null   object \n",
      " 9   LotConfig      1460 non-null   object \n",
      " 10  LandSlope      1460 non-null   object \n",
      " 11  Neighborhood   1460 non-null   object \n",
      " 12  Condition1     1460 non-null   object \n",
      " 13  Condition2     1460 non-null   object \n",
      " 14  BldgType       1460 non-null   object \n",
      " 15  HouseStyle     1460 non-null   object \n",
      " 16  OverallQual    1460 non-null   int64  \n",
      " 17  OverallCond    1460 non-null   int64  \n",
      " 18  YearBuilt      1460 non-null   int64  \n",
      " 19  YearRemodAdd   1460 non-null   int64  \n",
      " 20  RoofStyle      1460 non-null   object \n",
      " 21  RoofMatl       1460 non-null   object \n",
      " 22  Exterior1st    1460 non-null   object \n",
      " 23  Exterior2nd    1460 non-null   object \n",
      " 24  MasVnrType     1452 non-null   object \n",
      " 25  MasVnrArea     1452 non-null   float64\n",
      " 26  ExterQual      1460 non-null   object \n",
      " 27  ExterCond      1460 non-null   object \n",
      " 28  Foundation     1460 non-null   object \n",
      " 29  BsmtQual       1423 non-null   object \n",
      " 30  BsmtCond       1423 non-null   object \n",
      " 31  BsmtExposure   1422 non-null   object \n",
      " 32  BsmtFinType1   1423 non-null   object \n",
      " 33  BsmtFinSF1     1460 non-null   int64  \n",
      " 34  BsmtFinType2   1422 non-null   object \n",
      " 35  BsmtFinSF2     1460 non-null   int64  \n",
      " 36  BsmtUnfSF      1460 non-null   int64  \n",
      " 37  TotalBsmtSF    1460 non-null   int64  \n",
      " 38  Heating        1460 non-null   object \n",
      " 39  HeatingQC      1460 non-null   object \n",
      " 40  CentralAir     1460 non-null   object \n",
      " 41  Electrical     1459 non-null   object \n",
      " 42  1stFlrSF       1460 non-null   int64  \n",
      " 43  2ndFlrSF       1460 non-null   int64  \n",
      " 44  LowQualFinSF   1460 non-null   int64  \n",
      " 45  GrLivArea      1460 non-null   int64  \n",
      " 46  BsmtFullBath   1460 non-null   int64  \n",
      " 47  BsmtHalfBath   1460 non-null   int64  \n",
      " 48  FullBath       1460 non-null   int64  \n",
      " 49  HalfBath       1460 non-null   int64  \n",
      " 50  BedroomAbvGr   1460 non-null   int64  \n",
      " 51  KitchenAbvGr   1460 non-null   int64  \n",
      " 52  KitchenQual    1460 non-null   object \n",
      " 53  TotRmsAbvGrd   1460 non-null   int64  \n",
      " 54  Functional     1460 non-null   object \n",
      " 55  Fireplaces     1460 non-null   int64  \n",
      " 56  FireplaceQu    770 non-null    object \n",
      " 57  GarageType     1379 non-null   object \n",
      " 58  GarageYrBlt    1379 non-null   float64\n",
      " 59  GarageFinish   1379 non-null   object \n",
      " 60  GarageCars     1460 non-null   int64  \n",
      " 61  GarageArea     1460 non-null   int64  \n",
      " 62  GarageQual     1379 non-null   object \n",
      " 63  GarageCond     1379 non-null   object \n",
      " 64  PavedDrive     1460 non-null   object \n",
      " 65  WoodDeckSF     1460 non-null   int64  \n",
      " 66  OpenPorchSF    1460 non-null   int64  \n",
      " 67  EnclosedPorch  1460 non-null   int64  \n",
      " 68  3SsnPorch      1460 non-null   int64  \n",
      " 69  ScreenPorch    1460 non-null   int64  \n",
      " 70  PoolArea       1460 non-null   int64  \n",
      " 71  PoolQC         7 non-null      object \n",
      " 72  Fence          281 non-null    object \n",
      " 73  MiscFeature    54 non-null     object \n",
      " 74  MiscVal        1460 non-null   int64  \n",
      " 75  MoSold         1460 non-null   int64  \n",
      " 76  YrSold         1460 non-null   int64  \n",
      " 77  SaleType       1460 non-null   object \n",
      " 78  SaleCondition  1460 non-null   object \n",
      " 79  SalePrice      1460 non-null   int64  \n",
      "dtypes: float64(3), int64(34), object(43)\n",
      "memory usage: 923.9+ KB\n"
     ]
    }
   ],
   "source": [
    "\n",
    "train.info()"
   ]
  },
  {
   "cell_type": "code",
   "execution_count": 853,
   "metadata": {},
   "outputs": [
    {
     "name": "stdout",
     "output_type": "stream",
     "text": [
      "sample data has columns of  80 variables\n",
      "sample data has among of 1460 observations\n",
      "sample data has data types of [dtype('int64') dtype('O') dtype('float64')]\n"
     ]
    }
   ],
   "source": [
    "print(f'sample data has columns of  {len(train.columns)} variables')\n",
    "print(f'sample data has among of {len(train)} observations')\n",
    "print(f'sample data has data types of {train.dtypes.unique()}')"
   ]
  },
  {
   "cell_type": "markdown",
   "metadata": {},
   "source": [
    "## 2.2 missing data"
   ]
  },
  {
   "cell_type": "code",
   "execution_count": 855,
   "metadata": {},
   "outputs": [],
   "source": [
    "## some of data is missing, in percentage\n",
    "missing_counts = train.isnull().sum(axis=0)\n",
    "missing_df = pd.DataFrame(missing_counts,columns=['missing_counts'])\n",
    "missing_df['percent'] = missing_df['missing_counts'].apply(lambda x:x/len(train)*100)\n",
    "missing_df = missing_df[missing_df['percent']>0].sort_values(by='percent',ascending=True)"
   ]
  },
  {
   "cell_type": "code",
   "execution_count": 677,
   "metadata": {},
   "outputs": [
    {
     "data": {
      "text/html": [
       "<div>\n",
       "<style scoped>\n",
       "    .dataframe tbody tr th:only-of-type {\n",
       "        vertical-align: middle;\n",
       "    }\n",
       "\n",
       "    .dataframe tbody tr th {\n",
       "        vertical-align: top;\n",
       "    }\n",
       "\n",
       "    .dataframe thead th {\n",
       "        text-align: right;\n",
       "    }\n",
       "</style>\n",
       "<table border=\"1\" class=\"dataframe\">\n",
       "  <thead>\n",
       "    <tr style=\"text-align: right;\">\n",
       "      <th></th>\n",
       "      <th>missing_counts</th>\n",
       "      <th>percent</th>\n",
       "    </tr>\n",
       "  </thead>\n",
       "  <tbody>\n",
       "    <tr>\n",
       "      <th>PoolQC</th>\n",
       "      <td>1453</td>\n",
       "      <td>99.520548</td>\n",
       "    </tr>\n",
       "    <tr>\n",
       "      <th>MiscFeature</th>\n",
       "      <td>1406</td>\n",
       "      <td>96.301370</td>\n",
       "    </tr>\n",
       "    <tr>\n",
       "      <th>Alley</th>\n",
       "      <td>1369</td>\n",
       "      <td>93.767123</td>\n",
       "    </tr>\n",
       "    <tr>\n",
       "      <th>Fence</th>\n",
       "      <td>1179</td>\n",
       "      <td>80.753425</td>\n",
       "    </tr>\n",
       "    <tr>\n",
       "      <th>FireplaceQu</th>\n",
       "      <td>690</td>\n",
       "      <td>47.260274</td>\n",
       "    </tr>\n",
       "    <tr>\n",
       "      <th>LotFrontage</th>\n",
       "      <td>259</td>\n",
       "      <td>17.739726</td>\n",
       "    </tr>\n",
       "    <tr>\n",
       "      <th>GarageFinish</th>\n",
       "      <td>81</td>\n",
       "      <td>5.547945</td>\n",
       "    </tr>\n",
       "    <tr>\n",
       "      <th>GarageYrBlt</th>\n",
       "      <td>81</td>\n",
       "      <td>5.547945</td>\n",
       "    </tr>\n",
       "    <tr>\n",
       "      <th>GarageType</th>\n",
       "      <td>81</td>\n",
       "      <td>5.547945</td>\n",
       "    </tr>\n",
       "    <tr>\n",
       "      <th>GarageQual</th>\n",
       "      <td>81</td>\n",
       "      <td>5.547945</td>\n",
       "    </tr>\n",
       "    <tr>\n",
       "      <th>GarageCond</th>\n",
       "      <td>81</td>\n",
       "      <td>5.547945</td>\n",
       "    </tr>\n",
       "    <tr>\n",
       "      <th>BsmtFinType2</th>\n",
       "      <td>38</td>\n",
       "      <td>2.602740</td>\n",
       "    </tr>\n",
       "    <tr>\n",
       "      <th>BsmtExposure</th>\n",
       "      <td>38</td>\n",
       "      <td>2.602740</td>\n",
       "    </tr>\n",
       "    <tr>\n",
       "      <th>BsmtFinType1</th>\n",
       "      <td>37</td>\n",
       "      <td>2.534247</td>\n",
       "    </tr>\n",
       "    <tr>\n",
       "      <th>BsmtCond</th>\n",
       "      <td>37</td>\n",
       "      <td>2.534247</td>\n",
       "    </tr>\n",
       "    <tr>\n",
       "      <th>BsmtQual</th>\n",
       "      <td>37</td>\n",
       "      <td>2.534247</td>\n",
       "    </tr>\n",
       "    <tr>\n",
       "      <th>MasVnrType</th>\n",
       "      <td>8</td>\n",
       "      <td>0.547945</td>\n",
       "    </tr>\n",
       "    <tr>\n",
       "      <th>MasVnrArea</th>\n",
       "      <td>8</td>\n",
       "      <td>0.547945</td>\n",
       "    </tr>\n",
       "    <tr>\n",
       "      <th>Electrical</th>\n",
       "      <td>1</td>\n",
       "      <td>0.068493</td>\n",
       "    </tr>\n",
       "  </tbody>\n",
       "</table>\n",
       "</div>"
      ],
      "text/plain": [
       "              missing_counts    percent\n",
       "PoolQC                  1453  99.520548\n",
       "MiscFeature             1406  96.301370\n",
       "Alley                   1369  93.767123\n",
       "Fence                   1179  80.753425\n",
       "FireplaceQu              690  47.260274\n",
       "LotFrontage              259  17.739726\n",
       "GarageFinish              81   5.547945\n",
       "GarageYrBlt               81   5.547945\n",
       "GarageType                81   5.547945\n",
       "GarageQual                81   5.547945\n",
       "GarageCond                81   5.547945\n",
       "BsmtFinType2              38   2.602740\n",
       "BsmtExposure              38   2.602740\n",
       "BsmtFinType1              37   2.534247\n",
       "BsmtCond                  37   2.534247\n",
       "BsmtQual                  37   2.534247\n",
       "MasVnrType                 8   0.547945\n",
       "MasVnrArea                 8   0.547945\n",
       "Electrical                 1   0.068493"
      ]
     },
     "execution_count": 677,
     "metadata": {},
     "output_type": "execute_result"
    }
   ],
   "source": [
    "missing_df.sort_values(by='percent',ascending=False) ## there are 19 columns has missing values"
   ]
  },
  {
   "cell_type": "code",
   "execution_count": 678,
   "metadata": {},
   "outputs": [
    {
     "data": {
      "image/png": "[encoded data removed]",
      "text/plain": [
       "<Figure size 432x288 with 1 Axes>"
      ]
     },
     "metadata": {
      "needs_background": "light"
     },
     "output_type": "display_data"
    }
   ],
   "source": [
    "# fig,ax = plt.subplots(121,figsize=(15,6),)\n",
    "missing_df.sort_values(by='percent',ascending=False).plot(kind='bar',y='percent');"
   ]
  },
  {
   "cell_type": "code",
   "execution_count": 679,
   "metadata": {},
   "outputs": [],
   "source": [
    "##drop the column has more than 10% missing points\n",
    "missing_than_10 = missing_df[missing_df['percent']>10].index.tolist()\n",
    "train_drop_miss = train.drop(missing_than_10,axis=1)"
   ]
  },
  {
   "cell_type": "code",
   "execution_count": 680,
   "metadata": {},
   "outputs": [],
   "source": [
    "## before impution we shall drop the outlier points"
   ]
  },
  {
   "cell_type": "code",
   "execution_count": 856,
   "metadata": {},
   "outputs": [],
   "source": [
    "## drop missing columns:\n",
    "def drop_missing(df,criterior):\n",
    "    '''drop some columns has missing values than the criterior\n",
    "    Args:\n",
    "        df - pandas.Dataframe \n",
    "        criterior - float - percent of missing \n",
    "    Returns:\n",
    "        df - pandas.DataFrame\n",
    "    \n",
    "    '''\n",
    "    missing_counts = df.isnull().sum(axis=0)\n",
    "    missing_df = pd.DataFrame(missing_counts,columns=['missing_counts'])\n",
    "    missing_df['percent'] = missing_df['missing_counts'].apply(lambda x:x/len(df)*100)\n",
    "    missing_df = missing_df[missing_df['percent']>0].sort_values(by='percent',ascending=True)\n",
    "    \n",
    "    missing_than_10 = missing_df[missing_df['percent']>criterior].index.tolist()\n",
    "    drop_miss = df.drop(missing_than_10,axis=1)\n",
    "    \n",
    "    return drop_miss\n",
    "    \n",
    "    "
   ]
  },
  {
   "cell_type": "code",
   "execution_count": 768,
   "metadata": {},
   "outputs": [
    {
     "data": {
      "text/plain": [
       "['LotFrontage', 'FireplaceQu', 'Fence', 'Alley', 'MiscFeature', 'PoolQC']"
      ]
     },
     "execution_count": 768,
     "metadata": {},
     "output_type": "execute_result"
    }
   ],
   "source": [
    "missing_than_10"
   ]
  },
  {
   "cell_type": "code",
   "execution_count": 858,
   "metadata": {},
   "outputs": [],
   "source": [
    "train_drop_miss = drop_missing(train,10)"
   ]
  },
  {
   "cell_type": "markdown",
   "metadata": {},
   "source": [
    "## 2.3 Outlier detection"
   ]
  },
  {
   "cell_type": "code",
   "execution_count": 859,
   "metadata": {},
   "outputs": [],
   "source": [
    "train_outlier = deepcopy(train_drop_miss)\n"
   ]
  },
  {
   "cell_type": "code",
   "execution_count": 860,
   "metadata": {},
   "outputs": [],
   "source": [
    "def get_percentile(df, percentile_rank,col_name):\n",
    "    '''retrun the certain data point\n",
    "    Args:\n",
    "        df - pandas DataFrame - input dataframe\n",
    "        percentil_rank - float -  certain number of percent- such as 25,75 and so on\n",
    "        col_name - str - which column taking the percentia\n",
    "    \n",
    "    '''\n",
    "    # First, sort by ascending temperature, reset the indices\n",
    "    df = df.sort_values(by=col_name).reset_index()\n",
    "    \n",
    "    # Rule of three to get the index of the temperature\n",
    "    index = (len(df.index)-1) * percentile_rank / 100.0\n",
    "    index = int(index)\n",
    "    \n",
    "    # Return the temperature corresponding to the percentile rank\n",
    "    return df.at[index, col_name]"
   ]
  },
  {
   "cell_type": "code",
   "execution_count": 861,
   "metadata": {},
   "outputs": [],
   "source": [
    "def get_normal_with_iqr(df,col_name):\n",
    "    '''return the outlier mask\n",
    "    Args:\n",
    "        df - pandas.DataFrame - input dataframe\n",
    "        col_name - str - the column used for outlier detection\n",
    "        \n",
    "    Returns:\n",
    "        df - pandas.dataframe - Dataframe removed outliers\n",
    "    \n",
    "    '''\n",
    "    ## get the 25 and 75 percentile point\n",
    "    iqr_25 = get_percentile(df, 25,col_name)\n",
    "    iqr_75 = get_percentile(df, 75,col_name)\n",
    "    ##compute the iqr\n",
    "    irq = iqr_75-iqr_25\n",
    "    ## get the lower outelier and high outlier\n",
    "    low_out_lier = iqr_25 - irq\n",
    "    high_out_lier = iqr_75 + irq\n",
    "    ## generate the mask\n",
    "    outlier_mask = (df[col_name]<low_out_lier) | (df[col_name]>high_out_lier)\n",
    "    ##subset the dataframe\n",
    "    normal_df = df[~outlier_mask]\n",
    "    \n",
    "    return normal_df\n",
    "    "
   ]
  },
  {
   "cell_type": "code",
   "execution_count": 973,
   "metadata": {},
   "outputs": [],
   "source": [
    "#generate a new columns as price/area,price is excluded the mis values\n",
    "train_outlier['price per area'] = (train_outlier['SalePrice']- train_outlier['MiscVal'])/ train_outlier['GrLivArea']"
   ]
  },
  {
   "cell_type": "code",
   "execution_count": 974,
   "metadata": {},
   "outputs": [],
   "source": [
    "normal_df = get_normal_with_iqr(train_outlier,'price per area')"
   ]
  },
  {
   "cell_type": "code",
   "execution_count": 996,
   "metadata": {},
   "outputs": [],
   "source": [
    "## drop those two linearly correlated such as price and grlivarea\n",
    "normal_df.drop(['SalePrice','GrLivArea','MiscVal'],axis=1,inplace=True)"
   ]
  },
  {
   "cell_type": "code",
   "execution_count": 997,
   "metadata": {},
   "outputs": [],
   "source": [
    "# normal_df.drop(['price per area'],axis=1,inplace=True)"
   ]
  },
  {
   "cell_type": "code",
   "execution_count": 998,
   "metadata": {},
   "outputs": [
    {
     "data": {
      "image/png": "[encoded data removed]",
      "text/plain": [
       "<Figure size 432x288 with 1 Axes>"
      ]
     },
     "metadata": {},
     "output_type": "display_data"
    }
   ],
   "source": [
    "## outlier detection,selection abnormal target variables via \n",
    "\n",
    "sns.distplot(normal_df['price per area']);"
   ]
  },
  {
   "cell_type": "code",
   "execution_count": 999,
   "metadata": {},
   "outputs": [
    {
     "name": "stdout",
     "output_type": "stream",
     "text": [
      "the skweness of target data is -0.022252982401377918\n"
     ]
    }
   ],
   "source": [
    "print(f\"the skweness of target data is {normal_df['price per area'].skew()}\")\n"
   ]
  },
  {
   "cell_type": "markdown",
   "metadata": {},
   "source": [
    "***conclusion***\n",
    "- there are 19 columns has different magnitude of missing data,which has been dropped out\n",
    "- there 1460 rows of data and 61 columns and 1target col to predict\n",
    "- after removing the outlier, left with 1368 of rows\n",
    "\n"
   ]
  },
  {
   "cell_type": "code",
   "execution_count": 1000,
   "metadata": {},
   "outputs": [],
   "source": [
    "## impute the missing value for numerical and categorical\n"
   ]
  },
  {
   "cell_type": "code",
   "execution_count": 1001,
   "metadata": {},
   "outputs": [],
   "source": [
    "df_impute  = deepcopy(normal_df)"
   ]
  },
  {
   "cell_type": "code",
   "execution_count": 1002,
   "metadata": {},
   "outputs": [],
   "source": [
    "def impute_missing(*args):\n",
    "    ''' impute the missing value\n",
    "    Args:\n",
    "        df - DataFrame - ready to impute dataframe\n",
    "        include - str - include or exclude\n",
    "        data_type - str - such as 'object' or 'float'\n",
    "        strategy - str - strategy for imputing the value\n",
    "        \n",
    "    Returns:\n",
    "        impute_df - DataFrame - return dataframe with imputed value\n",
    "        \n",
    "    \n",
    "    '''\n",
    "    df,include_or_not,data_type,strategy = args\n",
    "    ## select certain dataframe\n",
    "    if include_or_not=='include':\n",
    "        df_dtype = df.select_dtypes(include=data_type)\n",
    "    else:\n",
    "        df_dtype = df.select_dtypes(exclude=data_type)\n",
    "#     impute_cols = df_dtype.columns\n",
    "    \n",
    "    imp_freq = SimpleImputer(missing_values=np.nan, strategy=strategy)\n",
    "    df_type_transform = imp_freq.fit_transform(df_dtype)\n",
    "    \n",
    "    df_type_transform = pd.DataFrame(df_type_transform)\n",
    "    df_type_transform.columns = df_dtype.columns\n",
    "    return df_type_transform\n",
    "    "
   ]
  },
  {
   "cell_type": "code",
   "execution_count": 1003,
   "metadata": {},
   "outputs": [],
   "source": [
    "df_impute_cate = impute_missing(df_impute,'include','object','most_frequent')"
   ]
  },
  {
   "cell_type": "code",
   "execution_count": 1004,
   "metadata": {},
   "outputs": [],
   "source": [
    "df_impute_numerical = impute_missing(df_impute,'exclude','object','mean')"
   ]
  },
  {
   "cell_type": "code",
   "execution_count": 1005,
   "metadata": {},
   "outputs": [
    {
     "data": {
      "text/html": [
       "<div>\n",
       "<style scoped>\n",
       "    .dataframe tbody tr th:only-of-type {\n",
       "        vertical-align: middle;\n",
       "    }\n",
       "\n",
       "    .dataframe tbody tr th {\n",
       "        vertical-align: top;\n",
       "    }\n",
       "\n",
       "    .dataframe thead th {\n",
       "        text-align: right;\n",
       "    }\n",
       "</style>\n",
       "<table border=\"1\" class=\"dataframe\">\n",
       "  <thead>\n",
       "    <tr style=\"text-align: right;\">\n",
       "      <th></th>\n",
       "      <th>MSSubClass</th>\n",
       "      <th>LotArea</th>\n",
       "      <th>OverallQual</th>\n",
       "      <th>OverallCond</th>\n",
       "      <th>YearBuilt</th>\n",
       "      <th>YearRemodAdd</th>\n",
       "      <th>MasVnrArea</th>\n",
       "      <th>BsmtFinSF1</th>\n",
       "      <th>BsmtFinSF2</th>\n",
       "      <th>BsmtUnfSF</th>\n",
       "      <th>...</th>\n",
       "      <th>GarageArea</th>\n",
       "      <th>WoodDeckSF</th>\n",
       "      <th>OpenPorchSF</th>\n",
       "      <th>EnclosedPorch</th>\n",
       "      <th>3SsnPorch</th>\n",
       "      <th>ScreenPorch</th>\n",
       "      <th>PoolArea</th>\n",
       "      <th>MoSold</th>\n",
       "      <th>YrSold</th>\n",
       "      <th>price per area</th>\n",
       "    </tr>\n",
       "  </thead>\n",
       "  <tbody>\n",
       "    <tr>\n",
       "      <th>0</th>\n",
       "      <td>60.0</td>\n",
       "      <td>8450.0</td>\n",
       "      <td>7.0</td>\n",
       "      <td>5.0</td>\n",
       "      <td>2003.0</td>\n",
       "      <td>2003.0</td>\n",
       "      <td>196.0</td>\n",
       "      <td>706.0</td>\n",
       "      <td>0.0</td>\n",
       "      <td>150.0</td>\n",
       "      <td>...</td>\n",
       "      <td>548.0</td>\n",
       "      <td>0.0</td>\n",
       "      <td>61.0</td>\n",
       "      <td>0.0</td>\n",
       "      <td>0.0</td>\n",
       "      <td>0.0</td>\n",
       "      <td>0.0</td>\n",
       "      <td>2.0</td>\n",
       "      <td>2008.0</td>\n",
       "      <td>121.929825</td>\n",
       "    </tr>\n",
       "    <tr>\n",
       "      <th>1</th>\n",
       "      <td>20.0</td>\n",
       "      <td>9600.0</td>\n",
       "      <td>6.0</td>\n",
       "      <td>8.0</td>\n",
       "      <td>1976.0</td>\n",
       "      <td>1976.0</td>\n",
       "      <td>0.0</td>\n",
       "      <td>978.0</td>\n",
       "      <td>0.0</td>\n",
       "      <td>284.0</td>\n",
       "      <td>...</td>\n",
       "      <td>460.0</td>\n",
       "      <td>298.0</td>\n",
       "      <td>0.0</td>\n",
       "      <td>0.0</td>\n",
       "      <td>0.0</td>\n",
       "      <td>0.0</td>\n",
       "      <td>0.0</td>\n",
       "      <td>5.0</td>\n",
       "      <td>2007.0</td>\n",
       "      <td>143.819334</td>\n",
       "    </tr>\n",
       "    <tr>\n",
       "      <th>2</th>\n",
       "      <td>60.0</td>\n",
       "      <td>11250.0</td>\n",
       "      <td>7.0</td>\n",
       "      <td>5.0</td>\n",
       "      <td>2001.0</td>\n",
       "      <td>2002.0</td>\n",
       "      <td>162.0</td>\n",
       "      <td>486.0</td>\n",
       "      <td>0.0</td>\n",
       "      <td>434.0</td>\n",
       "      <td>...</td>\n",
       "      <td>608.0</td>\n",
       "      <td>0.0</td>\n",
       "      <td>42.0</td>\n",
       "      <td>0.0</td>\n",
       "      <td>0.0</td>\n",
       "      <td>0.0</td>\n",
       "      <td>0.0</td>\n",
       "      <td>9.0</td>\n",
       "      <td>2008.0</td>\n",
       "      <td>125.139978</td>\n",
       "    </tr>\n",
       "    <tr>\n",
       "      <th>3</th>\n",
       "      <td>70.0</td>\n",
       "      <td>9550.0</td>\n",
       "      <td>7.0</td>\n",
       "      <td>5.0</td>\n",
       "      <td>1915.0</td>\n",
       "      <td>1970.0</td>\n",
       "      <td>0.0</td>\n",
       "      <td>216.0</td>\n",
       "      <td>0.0</td>\n",
       "      <td>540.0</td>\n",
       "      <td>...</td>\n",
       "      <td>642.0</td>\n",
       "      <td>0.0</td>\n",
       "      <td>35.0</td>\n",
       "      <td>272.0</td>\n",
       "      <td>0.0</td>\n",
       "      <td>0.0</td>\n",
       "      <td>0.0</td>\n",
       "      <td>2.0</td>\n",
       "      <td>2006.0</td>\n",
       "      <td>81.537566</td>\n",
       "    </tr>\n",
       "    <tr>\n",
       "      <th>4</th>\n",
       "      <td>60.0</td>\n",
       "      <td>14260.0</td>\n",
       "      <td>8.0</td>\n",
       "      <td>5.0</td>\n",
       "      <td>2000.0</td>\n",
       "      <td>2000.0</td>\n",
       "      <td>350.0</td>\n",
       "      <td>655.0</td>\n",
       "      <td>0.0</td>\n",
       "      <td>490.0</td>\n",
       "      <td>...</td>\n",
       "      <td>836.0</td>\n",
       "      <td>192.0</td>\n",
       "      <td>84.0</td>\n",
       "      <td>0.0</td>\n",
       "      <td>0.0</td>\n",
       "      <td>0.0</td>\n",
       "      <td>0.0</td>\n",
       "      <td>12.0</td>\n",
       "      <td>2008.0</td>\n",
       "      <td>113.739763</td>\n",
       "    </tr>\n",
       "  </tbody>\n",
       "</table>\n",
       "<p>5 rows × 34 columns</p>\n",
       "</div>"
      ],
      "text/plain": [
       "   MSSubClass  LotArea  OverallQual  OverallCond  YearBuilt  YearRemodAdd  \\\n",
       "0        60.0   8450.0          7.0          5.0     2003.0        2003.0   \n",
       "1        20.0   9600.0          6.0          8.0     1976.0        1976.0   \n",
       "2        60.0  11250.0          7.0          5.0     2001.0        2002.0   \n",
       "3        70.0   9550.0          7.0          5.0     1915.0        1970.0   \n",
       "4        60.0  14260.0          8.0          5.0     2000.0        2000.0   \n",
       "\n",
       "   MasVnrArea  BsmtFinSF1  BsmtFinSF2  BsmtUnfSF  ...  GarageArea  WoodDeckSF  \\\n",
       "0       196.0       706.0         0.0      150.0  ...       548.0         0.0   \n",
       "1         0.0       978.0         0.0      284.0  ...       460.0       298.0   \n",
       "2       162.0       486.0         0.0      434.0  ...       608.0         0.0   \n",
       "3         0.0       216.0         0.0      540.0  ...       642.0         0.0   \n",
       "4       350.0       655.0         0.0      490.0  ...       836.0       192.0   \n",
       "\n",
       "   OpenPorchSF  EnclosedPorch  3SsnPorch  ScreenPorch  PoolArea  MoSold  \\\n",
       "0         61.0            0.0        0.0          0.0       0.0     2.0   \n",
       "1          0.0            0.0        0.0          0.0       0.0     5.0   \n",
       "2         42.0            0.0        0.0          0.0       0.0     9.0   \n",
       "3         35.0          272.0        0.0          0.0       0.0     2.0   \n",
       "4         84.0            0.0        0.0          0.0       0.0    12.0   \n",
       "\n",
       "   YrSold  price per area  \n",
       "0  2008.0      121.929825  \n",
       "1  2007.0      143.819334  \n",
       "2  2008.0      125.139978  \n",
       "3  2006.0       81.537566  \n",
       "4  2008.0      113.739763  \n",
       "\n",
       "[5 rows x 34 columns]"
      ]
     },
     "execution_count": 1005,
     "metadata": {},
     "output_type": "execute_result"
    }
   ],
   "source": [
    "df_impute_numerical.head()"
   ]
  },
  {
   "cell_type": "code",
   "execution_count": 1006,
   "metadata": {},
   "outputs": [],
   "source": [
    "imputed_df = pd.concat([df_impute_cate,df_impute_numerical],axis=1)"
   ]
  },
  {
   "cell_type": "code",
   "execution_count": 1007,
   "metadata": {},
   "outputs": [
    {
     "data": {
      "text/plain": [
       "Series([], dtype: int64)"
      ]
     },
     "execution_count": 1007,
     "metadata": {},
     "output_type": "execute_result"
    }
   ],
   "source": [
    "imputed_df.isnull().sum()[imputed_df.isnull().sum()>0] ## empty of missing series"
   ]
  },
  {
   "cell_type": "code",
   "execution_count": 1008,
   "metadata": {},
   "outputs": [
    {
     "data": {
      "text/plain": [
       "Index(['MSZoning', 'Street', 'LotShape', 'LandContour', 'Utilities',\n",
       "       'LotConfig', 'LandSlope', 'Neighborhood', 'Condition1', 'Condition2',\n",
       "       'BldgType', 'HouseStyle', 'RoofStyle', 'RoofMatl', 'Exterior1st',\n",
       "       'Exterior2nd', 'MasVnrType', 'ExterQual', 'ExterCond', 'Foundation',\n",
       "       'BsmtQual', 'BsmtCond', 'BsmtExposure', 'BsmtFinType1', 'BsmtFinType2',\n",
       "       'Heating', 'HeatingQC', 'CentralAir', 'Electrical', 'KitchenQual',\n",
       "       'Functional', 'GarageType', 'GarageFinish', 'GarageQual', 'GarageCond',\n",
       "       'PavedDrive', 'SaleType', 'SaleCondition', 'MSSubClass', 'LotArea',\n",
       "       'OverallQual', 'OverallCond', 'YearBuilt', 'YearRemodAdd', 'MasVnrArea',\n",
       "       'BsmtFinSF1', 'BsmtFinSF2', 'BsmtUnfSF', 'TotalBsmtSF', '1stFlrSF',\n",
       "       '2ndFlrSF', 'LowQualFinSF', 'BsmtFullBath', 'BsmtHalfBath', 'FullBath',\n",
       "       'HalfBath', 'BedroomAbvGr', 'KitchenAbvGr', 'TotRmsAbvGrd',\n",
       "       'Fireplaces', 'GarageYrBlt', 'GarageCars', 'GarageArea', 'WoodDeckSF',\n",
       "       'OpenPorchSF', 'EnclosedPorch', '3SsnPorch', 'ScreenPorch', 'PoolArea',\n",
       "       'MoSold', 'YrSold', 'price per area'],\n",
       "      dtype='object')"
      ]
     },
     "execution_count": 1008,
     "metadata": {},
     "output_type": "execute_result"
    }
   ],
   "source": [
    "imputed_df.columns"
   ]
  },
  {
   "cell_type": "code",
   "execution_count": null,
   "metadata": {},
   "outputs": [],
   "source": []
  },
  {
   "cell_type": "markdown",
   "metadata": {},
   "source": [
    "# 3  EDA"
   ]
  },
  {
   "cell_type": "code",
   "execution_count": 1009,
   "metadata": {},
   "outputs": [],
   "source": [
    "## correlation of indepent variable with target variable"
   ]
  },
  {
   "cell_type": "code",
   "execution_count": 1010,
   "metadata": {},
   "outputs": [],
   "source": [
    "df_eda = deepcopy(imputed_df)"
   ]
  },
  {
   "cell_type": "code",
   "execution_count": 1013,
   "metadata": {},
   "outputs": [],
   "source": [
    "##generate new feature of time duration such as how long the house has been bulit before sold\n",
    "def gen_time_duration(df,new_column,time_couples):\n",
    "    '''generate time duration for couple columns\n",
    "    Args:\n",
    "        df -  pandas.DataFrame \n",
    "        new_column - str -  name for new generating time column\n",
    "        time_couples - tuple - couples for generating the time span column\n",
    "    \n",
    "    Returns:\n",
    "        time_duration - pd.Series \n",
    "    '''\n",
    "    end_time,start_time = time_couples[0],time_couples[1]\n",
    "    df[new_column] = df[end_time] - df[start_time]\n",
    "    \n",
    "    return df\n",
    "        \n",
    "        \n",
    "        "
   ]
  },
  {
   "cell_type": "code",
   "execution_count": 1014,
   "metadata": {},
   "outputs": [],
   "source": [
    "df_eda = gen_time_duration(df_eda,'house_history',('YrSold','YearRemodAdd'))\n",
    "df_eda = gen_time_duration(df_eda,'garage_years',('YrSold','GarageYrBlt'))\n",
    "# df_eda = gen_time_duration(df_eda,'house_history_since_built',('YrSold','YearBuilt'))"
   ]
  },
  {
   "cell_type": "code",
   "execution_count": 1015,
   "metadata": {},
   "outputs": [],
   "source": [
    "df_eda.drop(['YrSold','YearRemodAdd','YearBuilt','GarageYrBlt'],axis=1,inplace=True)"
   ]
  },
  {
   "cell_type": "code",
   "execution_count": 705,
   "metadata": {},
   "outputs": [],
   "source": [
    "##such columns are hightly correlated, such as garagearea with garagecars,\n",
    "## house's life and its quality plays an import role for determining the price\n",
    "\n"
   ]
  },
  {
   "cell_type": "code",
   "execution_count": 878,
   "metadata": {},
   "outputs": [
    {
     "data": {
      "text/plain": [
       "Index(['MSZoning', 'Street', 'LotShape', 'LandContour', 'Utilities',\n",
       "       'LotConfig', 'LandSlope', 'Neighborhood', 'Condition1', 'Condition2',\n",
       "       'BldgType', 'HouseStyle', 'RoofStyle', 'RoofMatl', 'Exterior1st',\n",
       "       'Exterior2nd', 'MasVnrType', 'ExterQual', 'ExterCond', 'Foundation',\n",
       "       'BsmtQual', 'BsmtCond', 'BsmtExposure', 'BsmtFinType1', 'BsmtFinType2',\n",
       "       'Heating', 'HeatingQC', 'CentralAir', 'Electrical', 'KitchenQual',\n",
       "       'Functional', 'GarageType', 'GarageFinish', 'GarageQual', 'GarageCond',\n",
       "       'PavedDrive'],\n",
       "      dtype='object')"
      ]
     },
     "execution_count": 878,
     "metadata": {},
     "output_type": "execute_result"
    }
   ],
   "source": [
    "##EDA about categorical data\n",
    "df_eda.select_dtypes('object').columns"
   ]
  },
  {
   "cell_type": "code",
   "execution_count": 1259,
   "metadata": {},
   "outputs": [],
   "source": [
    "## exlcude such data might not relate to the target variable for simplying the model\n",
    "exclude_cols = ['SaleType','SaleCondition','MoSold','MSSubClass','BsmtFullBath', 'BsmtHalfBath', 'FullBath', 'HalfBath']\n",
    "sele_cols = [col for col in df_eda.columns if col not in exclude_cols]\n",
    "df_eda = df_eda[sele_cols]\n"
   ]
  },
  {
   "cell_type": "markdown",
   "metadata": {},
   "source": [
    "## preprocressing \n"
   ]
  },
  {
   "cell_type": "code",
   "execution_count": 708,
   "metadata": {},
   "outputs": [],
   "source": [
    "## the data before modeling for categorical data and numerical data"
   ]
  },
  {
   "cell_type": "code",
   "execution_count": 1305,
   "metadata": {},
   "outputs": [],
   "source": [
    "## combined all the process to get the dataframe processed\n",
    "def preprocessed(df,exclude_cols,outlier_drop=False,criterior=10):\n",
    "    '''preprocessed the dataframe \n",
    "    Args:\n",
    "        df - pandas.DataFrame\n",
    "        exclude_cols - list - list for containing the excluded columns\n",
    "        outer_lier_dorp = bool - whether to drop the outlier\n",
    "        criterior - threshold for dropping the missing value columns\n",
    "    Returns:\n",
    "        processed_df - pandas.DataFrame\n",
    "    '''\n",
    "    ## exclude some columns\n",
    "    sel_cols = [col for col in df.columns if col not in exclude_cols]\n",
    "    df_drop_cols = df[sel_cols]\n",
    "    ## drop the missing values\n",
    "    df_impute = drop_missing(df_drop_cols,criterior)\n",
    "    ##drop the outlier if outlier drop is Ture\n",
    "    if outlier_drop:\n",
    "        ##generate a new columns as price/area,price is excluded the mis values\n",
    "        df_impute['price per area'] = (df_impute['SalePrice']- df_impute['MiscVal'])/ df_impute['GrLivArea']\n",
    "        normal_df = get_normal_with_iqr(df_impute,'price per area')\n",
    "        ## drop those two linearly correlated such as price and grlivarea\n",
    "#         normal_df.drop(['SalePrice','GrLivArea','MiscVal'],axis=1,inplace=True)\n",
    "#         normal_df.drop(['price per area'],axis=1,inplace=True)\n",
    "        df_impute = deepcopy(normal_df)\n",
    "    else:\n",
    "#         df_impute.drop(['GrLivArea','MiscVal'],axis=1,inplace=True)\n",
    "        pass\n",
    "    ##impute the missing value\n",
    "    df_impute_cate = impute_missing(df_impute,'include','object','most_frequent')\n",
    "    df_impute_numerical = impute_missing(df_impute,'exclude','object','mean')\n",
    "    imputed_df = pd.concat([df_impute_cate,df_impute_numerical],axis=1)\n",
    "    ## generate the time span\n",
    "    df_eda = gen_time_duration(imputed_df,'house_history',('YrSold','YearRemodAdd'))\n",
    "    df_eda = gen_time_duration(df_eda,'garage_years',('YrSold','GarageYrBlt'))\n",
    "    ## drop the time using for computing\n",
    "    df_eda.drop(['YrSold','YearRemodAdd','YearBuilt','GarageYrBlt'],axis=1,inplace=True)\n",
    "    \n",
    "    \n",
    "    return df_eda\n",
    "    \n",
    "    \n",
    "    \n",
    "    \n",
    "    "
   ]
  },
  {
   "cell_type": "code",
   "execution_count": 1306,
   "metadata": {},
   "outputs": [],
   "source": [
    "df_preprocessed = preprocessed(train,exclude_cols,True)"
   ]
  },
  {
   "cell_type": "code",
   "execution_count": 1327,
   "metadata": {},
   "outputs": [
    {
     "data": {
      "text/plain": [
       "Index(['MSZoning', 'Street', 'LotShape', 'LandContour', 'Utilities',\n",
       "       'LotConfig', 'LandSlope', 'Neighborhood', 'Condition1', 'Condition2',\n",
       "       'BldgType', 'HouseStyle', 'RoofStyle', 'RoofMatl', 'Exterior1st',\n",
       "       'Exterior2nd', 'MasVnrType', 'ExterQual', 'ExterCond', 'Foundation',\n",
       "       'BsmtQual', 'BsmtCond', 'BsmtExposure', 'BsmtFinType1', 'BsmtFinType2',\n",
       "       'Heating', 'HeatingQC', 'CentralAir', 'Electrical', 'KitchenQual',\n",
       "       'Functional', 'GarageType', 'GarageFinish', 'GarageQual', 'GarageCond',\n",
       "       'PavedDrive', 'LotArea', 'OverallQual', 'OverallCond', 'MasVnrArea',\n",
       "       'BsmtFinSF1', 'BsmtFinSF2', 'BsmtUnfSF', 'TotalBsmtSF', '1stFlrSF',\n",
       "       '2ndFlrSF', 'LowQualFinSF', 'GrLivArea', 'BedroomAbvGr', 'KitchenAbvGr',\n",
       "       'TotRmsAbvGrd', 'Fireplaces', 'GarageCars', 'GarageArea', 'WoodDeckSF',\n",
       "       'OpenPorchSF', 'EnclosedPorch', '3SsnPorch', 'ScreenPorch', 'PoolArea',\n",
       "       'MiscVal', 'SalePrice', 'price per area', 'house_history',\n",
       "       'garage_years'],\n",
       "      dtype='object')"
      ]
     },
     "execution_count": 1327,
     "metadata": {},
     "output_type": "execute_result"
    }
   ],
   "source": [
    "df_preprocessed.columns"
   ]
  },
  {
   "cell_type": "code",
   "execution_count": 1645,
   "metadata": {},
   "outputs": [],
   "source": [
    "df_preprocessed_test = preprocessed(test,exclude_cols)"
   ]
  },
  {
   "cell_type": "code",
   "execution_count": 1332,
   "metadata": {
    "scrolled": true
   },
   "outputs": [
    {
     "data": {
      "image/png": "[encoded data removed]",
      "text/plain": [
       "<Figure size 864x648 with 2 Axes>"
      ]
     },
     "metadata": {},
     "output_type": "display_data"
    }
   ],
   "source": [
    "\n",
    "#correlation matrix\n",
    "corrmat = df_preprocessed.corr()\n",
    "f, ax = plt.subplots(figsize=(12, 9))\n",
    "sns.heatmap(corrmat, vmax=1.0, square=True);"
   ]
  },
  {
   "cell_type": "code",
   "execution_count": 1334,
   "metadata": {},
   "outputs": [
    {
     "data": {
      "image/png": "[encoded data removed]",
      "text/plain": [
       "<Figure size 432x288 with 2 Axes>"
      ]
     },
     "metadata": {},
     "output_type": "display_data"
    }
   ],
   "source": [
    "k = 10 #number of variables for heatmap\n",
    "# cols = corrmat.nlargest(k, 'SalePrice')['SalePrice'].index\n",
    "cols = corrmat.nlargest(k,'SalePrice')['SalePrice'].index\n",
    "cm = np.corrcoef(df_preprocessed[cols].values.T)\n",
    "sns.set(font_scale=1.25)\n",
    "hm = sns.heatmap(cm, cbar=True, annot=True, square=True, fmt='.2f', annot_kws={'size': 10}, yticklabels=cols.values, xticklabels=cols.values)\n",
    "plt.show()"
   ]
  },
  {
   "cell_type": "markdown",
   "metadata": {},
   "source": [
    "## Feature Engineering"
   ]
  },
  {
   "cell_type": "code",
   "execution_count": 1368,
   "metadata": {},
   "outputs": [],
   "source": [
    "study_cols =  corrmat.nlargest(10,'SalePrice')['SalePrice'].index"
   ]
  },
  {
   "cell_type": "code",
   "execution_count": 1369,
   "metadata": {},
   "outputs": [
    {
     "data": {
      "text/plain": [
       "Index(['SalePrice', 'GrLivArea', 'OverallQual', 'GarageCars', 'GarageArea',\n",
       "       'TotRmsAbvGrd', 'TotalBsmtSF', '1stFlrSF', 'MasVnrArea', '2ndFlrSF'],\n",
       "      dtype='object')"
      ]
     },
     "execution_count": 1369,
     "metadata": {},
     "output_type": "execute_result"
    }
   ],
   "source": [
    "study_cols"
   ]
  },
  {
   "cell_type": "code",
   "execution_count": 1505,
   "metadata": {},
   "outputs": [],
   "source": [
    "def stand_encoding(df,target_col=['SalePrice','price per area'],scaler=MinMaxScaler()):\n",
    "    '''return the encoding columns for categorical data and numberical data\n",
    "    Args:\n",
    "        df - DataFrame - input DataFrame\n",
    "    Returns:\n",
    "        df_scaled - pandas.DataFrame - scaled dataframe\n",
    "    \n",
    "    '''\n",
    "    #categorical data\n",
    "    df_pro = df[ [col for col in df.columns  if col not in target_col]]\n",
    "    df_cate = df_pro.select_dtypes(include='object')\n",
    "    df_num = df_pro.select_dtypes(exclude='object')\n",
    "    \n",
    "    df_cate_dummies = pd.get_dummies(df_cate,drop_first=True)\n",
    "    df_num_scaled = scaler.fit_transform(df_num)\n",
    "    df_num_scaled = pd.DataFrame(df_num_scaled,columns=df_num.columns)\n",
    "    \n",
    "    df_scaled = pd.concat([df_num_scaled,df_cate_dummies],axis=1)\n",
    "    \n",
    "    return df_scaled"
   ]
  },
  {
   "cell_type": "code",
   "execution_count": 1508,
   "metadata": {},
   "outputs": [],
   "source": [
    "df_scaled =stand_encoding(df_preprocessed)"
   ]
  },
  {
   "cell_type": "code",
   "execution_count": 1629,
   "metadata": {},
   "outputs": [],
   "source": [
    "def forward_selection(original_df,scaled_df,target_cols,estimator=GradientBoostingRegressor()):\n",
    "    '''choosing the important numberical features\n",
    "    Args:\n",
    "        original_df - pandas.DataFrame - original dataframe for getting the t\n",
    "        scaled_df - panda.DataFrame - dataframe covert all data to numerical type\n",
    "        target_cols - list - to get the target series\n",
    "        \n",
    "    Returns:\n",
    "        feature_cols - list - feature of columns with forward selection\n",
    "    '''\n",
    "#     estimator  = Lasso()\n",
    "    features = []\n",
    "#     num_sample = df.select_dtypes(exclude='object')\n",
    "    x_sample = scaled_df\n",
    "#     print(num_x.columns)\n",
    "#     scaler = MinMaxScaler()\n",
    "#     num_x = scaler.fit_transform(num_sample)\n",
    "    y_sample = original_df[target_cols]\n",
    "#     feature_selection = SelectFromModel(estimator)\n",
    "#     feature_selection.fit(x_sample, num_y)\n",
    "\n",
    "#     selected_features = feature_selection.transform(x_sample)\n",
    "#     features = x_sample.columns[feature_selection.get_support()]\n",
    "    # Build RF classifier to use in feature selection\n",
    "#     clf = RandomForestClassifier(n_estimators=100, n_jobs=-1)\n",
    "\n",
    "    # Build step forward feature selection\n",
    "    sfs1 = sfs(estimator,\n",
    "               k_features=10,\n",
    "               forward=True,\n",
    "               floating=False,\n",
    "               verbose=2,\n",
    "#                n_jobs=4,\n",
    "               scoring='r2',\n",
    "#                skip_if_stuck=True,\n",
    "#                print_progress=False,\n",
    "               cv=10)\n",
    "\n",
    "    # Perform SFFS\n",
    "    sfs1 = sfs1.fit(x_sample, y_sample)\n",
    "    scores = sfs1.k_score_\n",
    "    \n",
    "    # which feature\n",
    "#     feat_cols = sfs1.k_features\n",
    "    feat_cols_index = list(sfs1.k_feature_idx_)\n",
    "    features_name = sfs1.k_feature_names_\n",
    "#     print(feat_cols)\n",
    "#     for feat_col_index in feat_cols_index:\n",
    "#         features.append(x_sample.columns[feat_col_index])\n",
    "    \n",
    "    return features_name,scores\n",
    "    "
   ]
  },
  {
   "cell_type": "code",
   "execution_count": 1630,
   "metadata": {},
   "outputs": [
    {
     "name": "stderr",
     "output_type": "stream",
     "text": [
      "[Parallel(n_jobs=1)]: Using backend SequentialBackend with 1 concurrent workers.\n",
      "[Parallel(n_jobs=1)]: Done   1 out of   1 | elapsed:    0.6s remaining:    0.0s\n",
      "[Parallel(n_jobs=1)]: Done 204 out of 204 | elapsed:   43.8s finished\n",
      "\n",
      "[2022-01-19 18:46:04] Features: 1/10 -- score: 0.6463051091605804[Parallel(n_jobs=1)]: Using backend SequentialBackend with 1 concurrent workers.\n",
      "[Parallel(n_jobs=1)]: Done   1 out of   1 | elapsed:    0.5s remaining:    0.0s\n",
      "[Parallel(n_jobs=1)]: Done 203 out of 203 | elapsed:   58.0s finished\n",
      "\n",
      "[2022-01-19 18:47:02] Features: 2/10 -- score: 0.815179360687878[Parallel(n_jobs=1)]: Using backend SequentialBackend with 1 concurrent workers.\n",
      "[Parallel(n_jobs=1)]: Done   1 out of   1 | elapsed:    0.9s remaining:    0.0s\n",
      "[Parallel(n_jobs=1)]: Done 202 out of 202 | elapsed:  1.8min finished\n",
      "\n",
      "[2022-01-19 18:48:50] Features: 3/10 -- score: 0.8482273143391632[Parallel(n_jobs=1)]: Using backend SequentialBackend with 1 concurrent workers.\n",
      "[Parallel(n_jobs=1)]: Done   1 out of   1 | elapsed:    1.0s remaining:    0.0s\n",
      "[Parallel(n_jobs=1)]: Done 201 out of 201 | elapsed:  2.7min finished\n",
      "\n",
      "[2022-01-19 18:51:33] Features: 4/10 -- score: 0.8732098598091531[Parallel(n_jobs=1)]: Using backend SequentialBackend with 1 concurrent workers.\n",
      "[Parallel(n_jobs=1)]: Done   1 out of   1 | elapsed:    1.2s remaining:    0.0s\n",
      "[Parallel(n_jobs=1)]: Done 200 out of 200 | elapsed:  3.1min finished\n",
      "\n",
      "[2022-01-19 18:54:41] Features: 5/10 -- score: 0.8862154301274872[Parallel(n_jobs=1)]: Using backend SequentialBackend with 1 concurrent workers.\n",
      "[Parallel(n_jobs=1)]: Done   1 out of   1 | elapsed:    1.2s remaining:    0.0s\n",
      "[Parallel(n_jobs=1)]: Done 199 out of 199 | elapsed:  4.0min finished\n",
      "\n",
      "[2022-01-19 18:58:43] Features: 6/10 -- score: 0.8946678685813684[Parallel(n_jobs=1)]: Using backend SequentialBackend with 1 concurrent workers.\n",
      "[Parallel(n_jobs=1)]: Done   1 out of   1 | elapsed:    1.3s remaining:    0.0s\n",
      "[Parallel(n_jobs=1)]: Done 198 out of 198 | elapsed:  4.0min finished\n",
      "\n",
      "[2022-01-19 19:02:45] Features: 7/10 -- score: 0.9006079262759542[Parallel(n_jobs=1)]: Using backend SequentialBackend with 1 concurrent workers.\n",
      "[Parallel(n_jobs=1)]: Done   1 out of   1 | elapsed:    1.6s remaining:    0.0s\n",
      "[Parallel(n_jobs=1)]: Done 197 out of 197 | elapsed:  3.9min finished\n",
      "\n",
      "[2022-01-19 19:06:39] Features: 8/10 -- score: 0.9065734768295313[Parallel(n_jobs=1)]: Using backend SequentialBackend with 1 concurrent workers.\n",
      "[Parallel(n_jobs=1)]: Done   1 out of   1 | elapsed:    1.2s remaining:    0.0s\n",
      "[Parallel(n_jobs=1)]: Done 196 out of 196 | elapsed:  3.7min finished\n",
      "\n",
      "[2022-01-19 19:10:22] Features: 9/10 -- score: 0.9090025694137669[Parallel(n_jobs=1)]: Using backend SequentialBackend with 1 concurrent workers.\n",
      "[Parallel(n_jobs=1)]: Done   1 out of   1 | elapsed:    1.3s remaining:    0.0s\n",
      "[Parallel(n_jobs=1)]: Done 195 out of 195 | elapsed:  3.8min finished\n",
      "\n",
      "[2022-01-19 19:14:10] Features: 10/10 -- score: 0.91002764335151"
     ]
    }
   ],
   "source": [
    "features = forward_selection(df_preprocessed,df_scaled,['SalePrice'])"
   ]
  },
  {
   "cell_type": "code",
   "execution_count": 1634,
   "metadata": {},
   "outputs": [
    {
     "data": {
      "text/plain": [
       "('LotArea',\n",
       " 'OverallQual',\n",
       " 'OverallCond',\n",
       " 'BsmtFinSF1',\n",
       " 'TotalBsmtSF',\n",
       " 'GrLivArea',\n",
       " 'GarageCars',\n",
       " 'house_history',\n",
       " 'MSZoning_RM',\n",
       " 'ExterQual_TA')"
      ]
     },
     "execution_count": 1634,
     "metadata": {},
     "output_type": "execute_result"
    }
   ],
   "source": [
    "features[0]"
   ]
  },
  {
   "cell_type": "code",
   "execution_count": 1632,
   "metadata": {},
   "outputs": [],
   "source": [
    "def get_original_feature(features,exclude='house_history'):\n",
    "    '''get feature from one hot encoding features\n",
    "    Args:\n",
    "        features  - list - list of all the features\n",
    "    Returns:\n",
    "        ori_features - list - original feature names\n",
    "    \n",
    "    '''\n",
    "    ori_features = set()\n",
    "    for feature in features:\n",
    "        if re.search('_',feature) and  feature != exclude:\n",
    "            ori_features.add(feature.split('_')[0])\n",
    "        elif  (re.search('_',feature) and feature == exclude) or  (not re.search('_',feature)) :\n",
    "            ori_features.add(feature)\n",
    "            \n",
    "    return ori_features\n",
    "            \n",
    "    "
   ]
  },
  {
   "cell_type": "code",
   "execution_count": 1635,
   "metadata": {},
   "outputs": [],
   "source": [
    "ori_features = get_original_feature(features[0],exclude='house_history')"
   ]
  },
  {
   "cell_type": "markdown",
   "metadata": {},
   "source": [
    "## bulid pipeline"
   ]
  },
  {
   "cell_type": "code",
   "execution_count": 1534,
   "metadata": {},
   "outputs": [],
   "source": [
    "\n",
    "class RgrSwitcher(BaseEstimator):\n",
    "    '''code source\n",
    "    https://stackoverflow.com/questions/50285973/pipeline-multiple-classifiers\n",
    "    '''\n",
    "    def __init__(\n",
    "        self, \n",
    "        estimator = LinearRegression(),\n",
    "    ):\n",
    "        \"\"\"\n",
    "        A Custom BaseEstimator that can switch between classifiers.\n",
    "        :param estimator: sklearn object - The classifier\n",
    "        \"\"\" \n",
    "        self.estimator = estimator\n",
    "        \n",
    "    def fit(self, X, y=None, **kwargs):\n",
    "        self.estimator.fit(X, y)\n",
    "        return self\n",
    "\n",
    "\n",
    "    def predict(self, X, y=None):\n",
    "        return self.estimator.predict(X)\n",
    "\n",
    "\n",
    "#     def predict_proba(self, X):\n",
    "#         return self.estimator.predict_proba(X)\n",
    "\n",
    "    def score(self, X, y):\n",
    "        return self.estimator.score(X, y)"
   ]
  },
  {
   "cell_type": "code",
   "execution_count": null,
   "metadata": {},
   "outputs": [],
   "source": [
    "## feature"
   ]
  },
  {
   "cell_type": "code",
   "execution_count": 1564,
   "metadata": {},
   "outputs": [],
   "source": [
    "def bulid_pipeline(df,feature_cols):\n",
    "    '''bulid data pipeline for ready-training\n",
    "    Args:\n",
    "        df - dataframe \n",
    "    Returns:\n",
    "        pipeline - sk-learn pipeline\n",
    "    \n",
    "    '''\n",
    "    #exclude target column\n",
    "    df = df[feature_cols]\n",
    "    nominal = df.select_dtypes(include='object').columns\n",
    "    numerical= df.select_dtypes(exclude='object').columns\n",
    "#     pca = PCA()\n",
    "    #initialize the pipeline\n",
    "    nominal_pipeline = Pipeline([\n",
    "        (\"encoder\", OneHotEncoder(sparse=False,handle_unknown='ignore'))\n",
    "    ])\n",
    "    numerical_pipeline = Pipeline([\n",
    "        (\"scaler\", MinMaxScaler())\n",
    "    ])\n",
    "    preprocessing_pipeline = ColumnTransformer([\n",
    "        (\"nominal_preprocessor\", nominal_pipeline, nominal),\n",
    "        (\"numerical_preprocessor\", numerical_pipeline, numerical)\n",
    "    ])\n",
    "    \n",
    "\n",
    "    #stack the pipeleline\n",
    "    complete_pipeline = Pipeline([\n",
    "        (\"preprocessor\", preprocessing_pipeline),\n",
    "#         ('pca',pca),\n",
    "        ('regressor', RgrSwitcher())\n",
    "    ])\n",
    "    \n",
    "    return complete_pipeline"
   ]
  },
  {
   "cell_type": "code",
   "execution_count": 1637,
   "metadata": {},
   "outputs": [],
   "source": [
    "complete_pipeline = bulid_pipeline(df_preprocessed,ori_features)"
   ]
  },
  {
   "cell_type": "code",
   "execution_count": 1638,
   "metadata": {},
   "outputs": [],
   "source": [
    "def train_predict(df,feature_cols,target_col,pipeline):\n",
    "    '''train the model and predicting\n",
    "    Args:\n",
    "        df - pd.DataFrame - input dataframe\n",
    "        feature_cols - list - choosing feature\n",
    "        pipeline - sklearn pipeline\n",
    "    Returns:\n",
    "        model - sk model\n",
    "        score - float - smr      \n",
    "    '''\n",
    "\n",
    "    param_grid = [\n",
    "        {\n",
    "            'regressor__estimator': [\n",
    "#                                     LinearRegression(),\n",
    "                                     Lasso(),\n",
    "#                                      Ridge(),\n",
    "#                                      XGBRegressor(),\n",
    "#                                     RandomForestRegressor(),\n",
    "                                     GradientBoostingRegressor(),\n",
    "#                                     AdaBoostRegressor()\n",
    "                                    ], # SVM if hinge loss / logreg if log loss\n",
    "#             \"pca__n_components\": [30,35,40,50,55,70,100,150,250,300],\n",
    "        },\n",
    "#         {\n",
    "#             'regressor__estimator': [XGBRegressor()],\n",
    "#             \"pca__n_components\": [30,35,40,50,55,70,100,150,250,300],\n",
    "        \n",
    "#         },\n",
    "#         {\n",
    "#             'regressor__estimator': [RandomForestRegressor()],\n",
    "#             \"pca__n_components\": [30,35,40,50,55,70,100,150,250,300],\n",
    "#         },\n",
    "#         {\n",
    "#             'regressor__estimator': [GradientBoostingRegressor()],\n",
    "#             \"pca__n_components\": [30,35,40,50,55,70,100,150,250,300],\n",
    "#         },\n",
    "#         {\n",
    "#             'regressor__estimator': [AdaBoostRegressor()],\n",
    "#             \"pca__n_components\": [30,35,40,50,55,70,100,150,250,300],\n",
    "#         },\n",
    "    ]\n",
    "    X = df[feature_cols]\n",
    "    y = df[target_col]\n",
    "#     y = np.log(y)\n",
    "    X_train, X_test, y_train, y_test = train_test_split(\n",
    "                                       X, y, test_size=0.3, random_state=0)\n",
    "    search = GridSearchCV(pipeline,param_grid, n_jobs=None)\n",
    "#     print(search.get_params().keys())\n",
    "    search.fit(X_train,y_train)\n",
    "#     pipeline.fit(X_train,y_train)\n",
    "    y_pred_train = search.predict(X_train)\n",
    "    y_pred = search.predict(X_test)\n",
    "# #     y_pred = np.multiply(y_pred_original,original_df['GrLivArea'])\n",
    "#     rm_score = mean_squared_error(y_test, y_pred,squared=False)\n",
    "    r_score =  r2_score(y_test,y_pred)\n",
    "    rm_log_score = mean_squared_log_error(y_test,y_pred)\n",
    "#     y_pred_original = X_tes\n",
    "#     X_sale_price = X_train['']\n",
    "    \n",
    "    return search,rm_log_score,r_score\n",
    "    \n",
    "    "
   ]
  },
  {
   "cell_type": "code",
   "execution_count": 1310,
   "metadata": {},
   "outputs": [],
   "source": [
    "model,rm_log_score,X_train,X_test,y_pred_train,y_pred = train_predict(df_preprocessed,feature_cols,'SalePrice',complete_pipeline)"
   ]
  },
  {
   "cell_type": "code",
   "execution_count": 1639,
   "metadata": {},
   "outputs": [],
   "source": [
    "model,rm_log_score,r_score = train_predict(df_preprocessed,ori_features,'SalePrice',complete_pipeline)"
   ]
  },
  {
   "cell_type": "code",
   "execution_count": 1649,
   "metadata": {},
   "outputs": [
    {
     "data": {
      "text/plain": [
       "0.911691503825327"
      ]
     },
     "execution_count": 1649,
     "metadata": {},
     "output_type": "execute_result"
    }
   ],
   "source": [
    "r_score"
   ]
  },
  {
   "cell_type": "code",
   "execution_count": 1193,
   "metadata": {},
   "outputs": [],
   "source": [
    "def get_sale_price_error(df,x,y=None,final_test=False):\n",
    "    '''get sale price with predict price per area with area\n",
    "    Args:\n",
    "        df - pandas.DataFrame \n",
    "        x  - pandas.DataFrame - dataframe with index\n",
    "        y  - pandas.Series - predict price series\n",
    "    Returns:\n",
    "        rm_log_score - rmslog error\n",
    "        \n",
    "    '''\n",
    "    rm_log_score =  None\n",
    "    indexs = x.index\n",
    "    \n",
    "    choose_x = df.iloc[indexs]\n",
    "    choose_x_grlivearea = choose_x['GrLivArea'].values\n",
    "    if not final_test:   \n",
    "        choose_x_price = choose_x['SalePrice'].values\n",
    "        predict_sale_price = np.multiply(choose_x_grlivearea,y)   \n",
    "        rm_log_score = mean_squared_log_error(choose_x_price,predict_sale_price)\n",
    "    else:\n",
    "        predict_sale_price = np.multiply(choose_x_grlivearea,y)\n",
    "#         predict_sale_price = np.multiply(choose_x_grlivearea,y) \n",
    "        \n",
    "    return rm_log_score,predict_sale_price"
   ]
  },
  {
   "cell_type": "code",
   "execution_count": null,
   "metadata": {},
   "outputs": [],
   "source": [
    "# error,final_price = get_sale_price_error(test,,x,final_test=True)"
   ]
  },
  {
   "cell_type": "code",
   "execution_count": 1646,
   "metadata": {
    "scrolled": true
   },
   "outputs": [],
   "source": [
    "pred = model.predict(df_preprocessed_test)"
   ]
  },
  {
   "cell_type": "code",
   "execution_count": 1119,
   "metadata": {},
   "outputs": [],
   "source": [
    "y_test_pred = np.multiply(pred,test['GrLivArea'].values)"
   ]
  },
  {
   "cell_type": "code",
   "execution_count": 1642,
   "metadata": {},
   "outputs": [
    {
     "data": {
      "text/plain": [
       "array([121595.37528923, 159806.62952669, 181861.8545845 , ...,\n",
       "       173881.83171693, 117071.22083734, 221211.17875982])"
      ]
     },
     "execution_count": 1642,
     "metadata": {},
     "output_type": "execute_result"
    }
   ],
   "source": [
    "pred"
   ]
  },
  {
   "cell_type": "code",
   "execution_count": 1647,
   "metadata": {},
   "outputs": [],
   "source": [
    "test['SalePrice'] = pred\n"
   ]
  },
  {
   "cell_type": "code",
   "execution_count": 1648,
   "metadata": {},
   "outputs": [],
   "source": [
    "test[['SalePrice']].to_csv('sumssion.csv')"
   ]
  },
  {
   "cell_type": "code",
   "execution_count": 1587,
   "metadata": {},
   "outputs": [
    {
     "data": {
      "text/html": [
       "<div>\n",
       "<style scoped>\n",
       "    .dataframe tbody tr th:only-of-type {\n",
       "        vertical-align: middle;\n",
       "    }\n",
       "\n",
       "    .dataframe tbody tr th {\n",
       "        vertical-align: top;\n",
       "    }\n",
       "\n",
       "    .dataframe thead th {\n",
       "        text-align: right;\n",
       "    }\n",
       "</style>\n",
       "<table border=\"1\" class=\"dataframe\">\n",
       "  <thead>\n",
       "    <tr style=\"text-align: right;\">\n",
       "      <th></th>\n",
       "      <th>SalePrice</th>\n",
       "      <th>forward_SalePrice</th>\n",
       "    </tr>\n",
       "    <tr>\n",
       "      <th>Id</th>\n",
       "      <th></th>\n",
       "      <th></th>\n",
       "    </tr>\n",
       "  </thead>\n",
       "  <tbody>\n",
       "    <tr>\n",
       "      <th>1461</th>\n",
       "      <td>116316.369952</td>\n",
       "      <td>130765.473112</td>\n",
       "    </tr>\n",
       "    <tr>\n",
       "      <th>1462</th>\n",
       "      <td>158173.160295</td>\n",
       "      <td>155926.016705</td>\n",
       "    </tr>\n",
       "    <tr>\n",
       "      <th>1463</th>\n",
       "      <td>180883.419442</td>\n",
       "      <td>178903.450384</td>\n",
       "    </tr>\n",
       "    <tr>\n",
       "      <th>1464</th>\n",
       "      <td>199921.497723</td>\n",
       "      <td>179093.226765</td>\n",
       "    </tr>\n",
       "    <tr>\n",
       "      <th>1465</th>\n",
       "      <td>191261.404091</td>\n",
       "      <td>194700.406875</td>\n",
       "    </tr>\n",
       "    <tr>\n",
       "      <th>...</th>\n",
       "      <td>...</td>\n",
       "      <td>...</td>\n",
       "    </tr>\n",
       "    <tr>\n",
       "      <th>2915</th>\n",
       "      <td>79345.525835</td>\n",
       "      <td>77816.991719</td>\n",
       "    </tr>\n",
       "    <tr>\n",
       "      <th>2916</th>\n",
       "      <td>79292.309796</td>\n",
       "      <td>86570.746352</td>\n",
       "    </tr>\n",
       "    <tr>\n",
       "      <th>2917</th>\n",
       "      <td>177586.021331</td>\n",
       "      <td>177431.045168</td>\n",
       "    </tr>\n",
       "    <tr>\n",
       "      <th>2918</th>\n",
       "      <td>118070.358447</td>\n",
       "      <td>117598.696696</td>\n",
       "    </tr>\n",
       "    <tr>\n",
       "      <th>2919</th>\n",
       "      <td>214488.051583</td>\n",
       "      <td>226134.657728</td>\n",
       "    </tr>\n",
       "  </tbody>\n",
       "</table>\n",
       "<p>1459 rows × 2 columns</p>\n",
       "</div>"
      ],
      "text/plain": [
       "          SalePrice  forward_SalePrice\n",
       "Id                                    \n",
       "1461  116316.369952      130765.473112\n",
       "1462  158173.160295      155926.016705\n",
       "1463  180883.419442      178903.450384\n",
       "1464  199921.497723      179093.226765\n",
       "1465  191261.404091      194700.406875\n",
       "...             ...                ...\n",
       "2915   79345.525835       77816.991719\n",
       "2916   79292.309796       86570.746352\n",
       "2917  177586.021331      177431.045168\n",
       "2918  118070.358447      117598.696696\n",
       "2919  214488.051583      226134.657728\n",
       "\n",
       "[1459 rows x 2 columns]"
      ]
     },
     "execution_count": 1587,
     "metadata": {},
     "output_type": "execute_result"
    }
   ],
   "source": [
    "test[['SalePrice','forward_SalePrice']]"
   ]
  },
  {
   "cell_type": "markdown",
   "metadata": {},
   "source": [
    "## Feature engineering"
   ]
  },
  {
   "cell_type": "code",
   "execution_count": 1133,
   "metadata": {},
   "outputs": [],
   "source": [
    "df_feature = df_preprocessed[feature_cols]"
   ]
  },
  {
   "cell_type": "code",
   "execution_count": 1164,
   "metadata": {},
   "outputs": [],
   "source": [
    "study_features = ['porch','Garage','Bsm','Bedroom','Porch','Wood','Rms']"
   ]
  },
  {
   "cell_type": "code",
   "execution_count": 1165,
   "metadata": {},
   "outputs": [],
   "source": [
    "df_features_num = df_feature.select_dtypes(exclude='object')"
   ]
  },
  {
   "cell_type": "code",
   "execution_count": 1166,
   "metadata": {},
   "outputs": [],
   "source": [
    "# def choose_search_cols(df_features_num,features_name):\n",
    "#     '''choose feature cols\n",
    "#     Args:\n",
    "#         df_feature_num - pandas.DataFrame \n",
    "#         features_name - list - which feature you want to explore\n",
    "#     Returns:\n",
    "#         sel_cols - list - selected features for stuyding\n",
    "#     '''\n",
    "#     ##compose porch eara\n",
    "#     sel_cols = []\n",
    "#     for feature_name in features_name:\n",
    "#         for col in df_features_num.columns:\n",
    "#             if re.search(feature_name,col):\n",
    "#                 sel_cols.append(col)\n",
    "#     return sel_cols\n",
    "            \n",
    "    "
   ]
  },
  {
   "cell_type": "code",
   "execution_count": 1170,
   "metadata": {},
   "outputs": [],
   "source": [
    "# df_feature_cols = choose_search_cols(df_features_num,study_features)"
   ]
  },
  {
   "cell_type": "code",
   "execution_count": 1204,
   "metadata": {},
   "outputs": [],
   "source": [
    "df_feature_cols = ['GarageArea','BsmtFinSF1','BsmtFinSF2','TotalBsmtSF',\n",
    "                   'BedroomAbvGr','TotRmsAbvGrd','LotArea','OpenPorchSF',\n",
    "                   'EnclosedPorch','3SsnPorch','ScreenPorch',\n",
    "                  'WoodDeckSF']"
   ]
  },
  {
   "cell_type": "code",
   "execution_count": 1173,
   "metadata": {},
   "outputs": [
    {
     "data": {
      "text/plain": [
       "13"
      ]
     },
     "execution_count": 1173,
     "metadata": {},
     "output_type": "execute_result"
    }
   ],
   "source": [
    "len(df_feature_cols)"
   ]
  },
  {
   "cell_type": "code",
   "execution_count": 1283,
   "metadata": {},
   "outputs": [],
   "source": [
    "def featrue_engineering(df):\n",
    "    '''Doing feature engineering on the numberical values\n",
    "    Args:\n",
    "        df - pandas.DataFrame\n",
    "    Returns:\n",
    "        featured_df - pandas.DataFrame\n",
    "    '''\n",
    "    ##compute total basement area\n",
    "    df['basement_to_lot'] = df['TotalBsmtSF']/df['LotArea']\n",
    "    \n",
    "    ##compute bedroom to total rooms\n",
    "    df['bedrooms_to_total_rooms'] = df['BedroomAbvGr']/df['TotRmsAbvGrd']\n",
    "    \n",
    "    ##compute porch area to total\n",
    "    df['total_porch'] = df['3SsnPorch']+df['EnclosedPorch']+df['ScreenPorch']+df['OpenPorchSF']\n",
    "    df['proch_to_lot'] = df['total_porch'] / df['LotArea']\n",
    "    ## compute deck eare to the lot area\n",
    "    df['deck_to_lot'] = df['WoodDeckSF'] / df['LotArea']\n",
    "    \n",
    "    ## garage area to lot\n",
    "    df['garage_to_lot'] = df['GarageArea'] / df['LotArea']\n",
    "    \n",
    "    middle_features = ['TotalBsmtSF','BedroomAbvGr','TotRmsAbvGrd','3SsnPorch','GarageArea'\n",
    "                       'EnclosedPorch','ScreenPorch','OpenPorchSF','WoodDeckSF','total_porch']\n",
    "    final_features = [col for col in df.columns if col not in middle_features]\n",
    "    \n",
    "    return df[final_features]\n",
    "                    \n",
    "    \n",
    "    \n",
    "    \n",
    "    \n",
    "    "
   ]
  },
  {
   "cell_type": "code",
   "execution_count": 1284,
   "metadata": {},
   "outputs": [],
   "source": [
    "featured_df = featrue_engineering(df_preprocessed)\n"
   ]
  },
  {
   "cell_type": "code",
   "execution_count": null,
   "metadata": {},
   "outputs": [],
   "source": []
  },
  {
   "cell_type": "code",
   "execution_count": 1293,
   "metadata": {},
   "outputs": [
    {
     "data": {
      "text/plain": [
       "1.7782794100389228"
      ]
     },
     "execution_count": 1293,
     "metadata": {},
     "output_type": "execute_result"
    }
   ],
   "source": [
    "np.sqrt(np.sqrt(10))"
   ]
  },
  {
   "cell_type": "code",
   "execution_count": 1294,
   "metadata": {},
   "outputs": [
    {
     "data": {
      "text/plain": [
       "2.302585092994046"
      ]
     },
     "execution_count": 1294,
     "metadata": {},
     "output_type": "execute_result"
    }
   ],
   "source": [
    "np.log(10)"
   ]
  },
  {
   "cell_type": "code",
   "execution_count": 1285,
   "metadata": {},
   "outputs": [],
   "source": [
    "complete_pipeline,feature_cols = bulid_pipeline(featured_df,['SalePrice','price per area'])"
   ]
  },
  {
   "cell_type": "code",
   "execution_count": 1287,
   "metadata": {},
   "outputs": [],
   "source": [
    "result = train_predict(featured_df,feature_cols,'SalePrice',complete_pipeline)"
   ]
  },
  {
   "cell_type": "code",
   "execution_count": 1288,
   "metadata": {},
   "outputs": [],
   "source": [
    "error,final_price = get_sale_price_error(train,X_train,y=y_pred_train,final_test=False)"
   ]
  }
 ],
 "metadata": {
  "kernelspec": {
   "display_name": "Python 3",
   "language": "python",
   "name": "python3"
  },
  "language_info": {
   "codemirror_mode": {
    "name": "ipython",
    "version": 3
   },
   "file_extension": ".py",
   "mimetype": "text/x-python",
   "name": "python",
   "nbconvert_exporter": "python",
   "pygments_lexer": "ipython3",
   "version": "3.8.3"
  }
 },
 "nbformat": 4,
 "nbformat_minor": 5
}
